{
  "nbformat": 4,
  "nbformat_minor": 0,
  "metadata": {
    "colab": {
      "provenance": []
    },
    "kernelspec": {
      "name": "python3",
      "display_name": "Python 3"
    },
    "language_info": {
      "name": "python"
    }
  },
  "cells": [
    {
      "cell_type": "code",
      "execution_count": null,
      "metadata": {
        "colab": {
          "base_uri": "https://localhost:8080/"
        },
        "id": "bqlKkCJiFX3W",
        "outputId": "d770a666-2273-4d31-8de0-f6f127b7ebcf"
      },
      "outputs": [
        {
          "output_type": "stream",
          "name": "stdout",
          "text": [
            "tensor(1., grad_fn=<PowBackward0>)\n",
            "tensor(-2.)\n"
          ]
        }
      ],
      "source": [
        "import torch\n",
        "\n",
        "x = torch.tensor(1.0) #this input will not require gradient\n",
        "y_actual = torch.tensor(2.0)\n",
        "\n",
        "w = torch.tensor(1.0, requires_grad=True) #this input requires gradient\n",
        "\n",
        "# performing a forward pass and computing the loss\n",
        "\n",
        "y_pred = w*x\n",
        "loss = (y_pred-y_actual)**2\n",
        "\n",
        "print(loss)\n",
        "\n",
        "loss.backward()\n",
        "\n",
        "print(w.grad)"
      ]
    }
  ]
}