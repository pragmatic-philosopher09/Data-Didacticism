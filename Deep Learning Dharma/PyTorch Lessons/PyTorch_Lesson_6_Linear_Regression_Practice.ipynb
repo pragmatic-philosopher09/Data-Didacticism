{
  "nbformat": 4,
  "nbformat_minor": 0,
  "metadata": {
    "colab": {
      "provenance": []
    },
    "kernelspec": {
      "name": "python3",
      "display_name": "Python 3"
    },
    "language_info": {
      "name": "python"
    }
  },
  "cells": [
    {
      "cell_type": "code",
      "execution_count": null,
      "metadata": {
        "id": "_1AbgjEOQjU5"
      },
      "outputs": [],
      "source": [
        "import torch\n",
        "import torch.nn as nn\n",
        "import numpy as np\n",
        "from sklearn import datasets\n",
        "import matplotlib.pyplot as plt"
      ]
    },
    {
      "cell_type": "markdown",
      "source": [
        "### **1. Preparing Dataset:**"
      ],
      "metadata": {
        "id": "u5znAR9_Q0hn"
      }
    },
    {
      "cell_type": "code",
      "source": [
        "X_numpy, Y_numpy = datasets.make_regression(n_samples=100, n_features=1, noise=20, random_state=1)\n",
        "\n",
        "X = torch.from_numpy(X_numpy.astype(np.float32))\n",
        "Y = torch.from_numpy(Y_numpy.astype(np.float32))"
      ],
      "metadata": {
        "id": "P2FLzrEDQtvR"
      },
      "execution_count": null,
      "outputs": []
    },
    {
      "cell_type": "code",
      "source": [
        "X"
      ],
      "metadata": {
        "colab": {
          "base_uri": "https://localhost:8080/"
        },
        "id": "OdwYvIQeSUoy",
        "outputId": "4948465a-a3ba-4e33-f624-72713baa7ab0"
      },
      "execution_count": null,
      "outputs": [
        {
          "output_type": "execute_result",
          "data": {
            "text/plain": [
              "tensor([[-0.6118],\n",
              "        [-0.2494],\n",
              "        [ 0.4885],\n",
              "        [ 0.7620],\n",
              "        [ 1.5198],\n",
              "        [ 0.3776],\n",
              "        [ 0.5129],\n",
              "        [-0.6712],\n",
              "        [-1.3965],\n",
              "        [ 0.3156],\n",
              "        [-0.6370],\n",
              "        [-0.3968],\n",
              "        [-1.1006],\n",
              "        [ 0.9009],\n",
              "        [-1.0999],\n",
              "        [ 0.8280],\n",
              "        [-0.0756],\n",
              "        [-0.3522],\n",
              "        [-0.6707],\n",
              "        [-1.0730],\n",
              "        [-0.3062],\n",
              "        [ 2.1856],\n",
              "        [ 0.8654],\n",
              "        [ 0.1983],\n",
              "        [-0.3841],\n",
              "        [-0.6837],\n",
              "        [ 0.0508],\n",
              "        [ 0.5828],\n",
              "        [ 1.2529],\n",
              "        [-0.7544],\n",
              "        [-0.3493],\n",
              "        [-0.8876],\n",
              "        [ 0.1866],\n",
              "        [ 0.8762],\n",
              "        [ 0.8390],\n",
              "        [-0.5045],\n",
              "        [-0.3439],\n",
              "        [ 1.6925],\n",
              "        [-2.3015],\n",
              "        [ 0.9311],\n",
              "        [ 2.1003],\n",
              "        [ 1.4621],\n",
              "        [-0.8452],\n",
              "        [-0.8779],\n",
              "        [-0.3224],\n",
              "        [ 0.8851],\n",
              "        [ 0.1600],\n",
              "        [ 1.1316],\n",
              "        [-0.3753],\n",
              "        [ 0.5025],\n",
              "        [-0.2089],\n",
              "        [ 0.1202],\n",
              "        [ 0.5866],\n",
              "        [ 0.3190],\n",
              "        [-0.6917],\n",
              "        [ 0.6980],\n",
              "        [ 1.1989],\n",
              "        [-0.2008],\n",
              "        [ 0.5304],\n",
              "        [ 0.7420],\n",
              "        [ 0.4101],\n",
              "        [ 0.1190],\n",
              "        [-0.7612],\n",
              "        [ 0.4235],\n",
              "        [ 0.3002],\n",
              "        [-1.1425],\n",
              "        [ 0.1852],\n",
              "        [-0.9358],\n",
              "        [-0.6200],\n",
              "        [-1.1173],\n",
              "        [-1.4441],\n",
              "        [-0.2223],\n",
              "        [ 1.6243],\n",
              "        [ 0.6172],\n",
              "        [-0.6872],\n",
              "        [ 0.0773],\n",
              "        [-0.0127],\n",
              "        [-0.6387],\n",
              "        [ 1.1338],\n",
              "        [ 1.7448],\n",
              "        [ 0.9016],\n",
              "        [-2.0601],\n",
              "        [ 0.2344],\n",
              "        [-0.1724],\n",
              "        [ 0.1218],\n",
              "        [ 1.1447],\n",
              "        [-0.1229],\n",
              "        [-0.7472],\n",
              "        [ 0.2856],\n",
              "        [-2.0222],\n",
              "        [ 0.2301],\n",
              "        [-0.2679],\n",
              "        [-0.5282],\n",
              "        [ 1.1295],\n",
              "        [ 0.1909],\n",
              "        [-0.2981],\n",
              "        [ 1.6598],\n",
              "        [ 0.0436],\n",
              "        [ 0.0422],\n",
              "        [-0.1918]])"
            ]
          },
          "metadata": {},
          "execution_count": 3
        }
      ]
    },
    {
      "cell_type": "code",
      "source": [
        "Y"
      ],
      "metadata": {
        "colab": {
          "base_uri": "https://localhost:8080/"
        },
        "id": "CRt3ggtfSYxg",
        "outputId": "2910e401-5d5b-4eb6-e7f4-406e66c1f972"
      },
      "execution_count": null,
      "outputs": [
        {
          "output_type": "execute_result",
          "data": {
            "text/plain": [
              "tensor([-5.5539e+01, -1.0662e+01,  2.2757e+01,  1.0110e+02,  1.4434e+02,\n",
              "         3.3289e+01,  3.3015e+01, -2.5887e+01, -9.9639e+01,  2.3803e+01,\n",
              "        -4.5589e+01, -8.3388e+00, -9.5315e+01,  3.6407e+01, -8.7293e+01,\n",
              "         6.7669e+01, -1.3687e+01, -5.5441e+01, -6.5340e+01, -5.4450e+01,\n",
              "        -2.8835e+01,  1.7884e+02,  6.5084e+01,  2.6668e+01, -1.8546e+01,\n",
              "        -4.1499e+01,  8.5583e-01,  4.4562e+01,  1.1598e+02, -6.4620e+01,\n",
              "        -2.5931e+01, -6.0882e+01,  1.8720e+01,  7.5070e+01,  1.1720e+02,\n",
              "        -2.2698e+01, -5.6363e+01,  1.8084e+02, -1.9257e+02,  6.8503e+01,\n",
              "         1.6552e+02,  1.0500e+02, -7.0434e+01, -5.8769e+01, -4.1576e+01,\n",
              "         7.3247e+01,  4.0966e+01,  8.0462e+01, -2.8794e+01,  3.4234e+01,\n",
              "        -4.1715e+01,  1.4355e+01,  7.9336e+01,  2.7129e+01, -3.9487e+01,\n",
              "         6.6805e+01,  9.5531e+01,  3.5610e+00,  1.0857e-01,  5.6495e+01,\n",
              "         5.1575e+01, -2.0974e+00, -2.6656e+01,  3.9742e+01,  3.6101e+01,\n",
              "        -7.5602e+01,  1.9713e+01, -7.1601e+01, -1.9904e+01, -7.6708e+01,\n",
              "        -1.1834e+02, -2.9825e+01,  1.5108e+02,  5.2923e+01, -5.9552e+01,\n",
              "         3.0721e+01, -2.9355e+01, -4.4786e+01,  1.0006e+02,  1.5058e+02,\n",
              "         1.2200e+02, -1.8186e+02,  3.4739e+00, -2.2980e+01,  4.5184e+01,\n",
              "         9.8606e+01, -9.2779e+00, -5.2478e+01,  3.8593e+01, -1.9997e+02,\n",
              "        -9.5201e+00, -3.4724e+00, -3.5312e+01,  7.5406e+01,  1.7570e+01,\n",
              "        -2.3960e+01,  1.3209e+02,  2.0608e+01,  5.1111e+01, -2.6306e+01])"
            ]
          },
          "metadata": {},
          "execution_count": 4
        }
      ]
    },
    {
      "cell_type": "code",
      "source": [
        "X.shape"
      ],
      "metadata": {
        "colab": {
          "base_uri": "https://localhost:8080/"
        },
        "id": "QGuffuWEShQA",
        "outputId": "f8ddafc2-8192-44d2-ceff-3a83dcc71d66"
      },
      "execution_count": null,
      "outputs": [
        {
          "output_type": "execute_result",
          "data": {
            "text/plain": [
              "torch.Size([100, 1])"
            ]
          },
          "metadata": {},
          "execution_count": 5
        }
      ]
    },
    {
      "cell_type": "code",
      "source": [
        "Y.shape"
      ],
      "metadata": {
        "colab": {
          "base_uri": "https://localhost:8080/"
        },
        "id": "_79BzsyPSlrl",
        "outputId": "3c79b5b5-b9f4-44d3-9126-72df21134288"
      },
      "execution_count": null,
      "outputs": [
        {
          "output_type": "execute_result",
          "data": {
            "text/plain": [
              "torch.Size([100])"
            ]
          },
          "metadata": {},
          "execution_count": 6
        }
      ]
    },
    {
      "cell_type": "code",
      "source": [
        "Y = Y.view(Y.shape[0],1) # reshaping & resizing --> converting to column vector\n",
        "\n"
      ],
      "metadata": {
        "id": "M5A-M26_R88Z"
      },
      "execution_count": null,
      "outputs": []
    },
    {
      "cell_type": "code",
      "source": [
        "Y.shape"
      ],
      "metadata": {
        "colab": {
          "base_uri": "https://localhost:8080/"
        },
        "id": "S7kAcLulTMbH",
        "outputId": "ab18f6b8-7358-4d70-b61b-bc33a6426c4c"
      },
      "execution_count": null,
      "outputs": [
        {
          "output_type": "execute_result",
          "data": {
            "text/plain": [
              "torch.Size([100, 1])"
            ]
          },
          "metadata": {},
          "execution_count": 8
        }
      ]
    },
    {
      "cell_type": "code",
      "source": [
        "n_samples, n_features = X.shape\n",
        "\n",
        "input_size = n_features\n",
        "output_size = 1"
      ],
      "metadata": {
        "id": "x7fbJioWTNp7"
      },
      "execution_count": null,
      "outputs": []
    },
    {
      "cell_type": "markdown",
      "source": [
        "### **Phase 2: Constructing Model, Loss & Optimizer**"
      ],
      "metadata": {
        "id": "zD-DzMvKNb2X"
      }
    },
    {
      "cell_type": "code",
      "source": [
        "model = nn.Linear(input_size,output_size) #creating model for forward pass"
      ],
      "metadata": {
        "id": "Fy6r5GyzTaSg"
      },
      "execution_count": null,
      "outputs": []
    },
    {
      "cell_type": "code",
      "source": [
        "loss_fn = nn.MSELoss() #Loss function creation"
      ],
      "metadata": {
        "id": "lolGEe9RTqYm"
      },
      "execution_count": null,
      "outputs": []
    },
    {
      "cell_type": "code",
      "source": [
        "learning_rate = 0.001\n",
        "n_iters = 10000\n",
        "\n",
        "optimizer = torch.optim.SGD(model.parameters(),lr=learning_rate) # model.parameters() --> weights + biases taken care of\n"
      ],
      "metadata": {
        "id": "dG4B6ArDT0XG"
      },
      "execution_count": null,
      "outputs": []
    },
    {
      "cell_type": "code",
      "source": [
        "# Training Loop\n",
        "\n",
        "for epoch in range(n_iters):\n",
        "\n",
        "  Y_pred = model(X)  # Forward pass and prediction\n",
        "\n",
        "  loss_val = loss_fn(Y_pred,Y) # Loss value computation\n",
        "\n",
        "  loss_val.backward() # Gradient computation\n",
        "\n",
        "  optimizer.step() # Updating weights from gradients\n",
        "\n",
        "  optimizer.zero_grad() # Resetting gradients\n",
        "\n",
        "  if((epoch+1)%2000 ==0):\n",
        "    print(f'Epoch #{epoch+1} loss = {loss_val:.8f}')"
      ],
      "metadata": {
        "colab": {
          "base_uri": "https://localhost:8080/"
        },
        "id": "r4MCJXgWUrwI",
        "outputId": "d209327e-795a-4d09-ea32-9eeb160cba52"
      },
      "execution_count": null,
      "outputs": [
        {
          "output_type": "stream",
          "name": "stdout",
          "text": [
            "Epoch #2000 loss = 342.76022339\n",
            "Epoch #4000 loss = 332.58847046\n",
            "Epoch #6000 loss = 332.56756592\n",
            "Epoch #8000 loss = 332.56756592\n",
            "Epoch #10000 loss = 332.56756592\n"
          ]
        }
      ]
    },
    {
      "cell_type": "markdown",
      "source": [
        "### **Detaching The Output From Computational Graph + Plotting**\n",
        "\n",
        "##### *No o/p will be backpropagated. Similar to [model.no_grad()](https://stackoverflow.com/questions/56816241/difference-between-detach-and-with-torch-nograd-in-pytorch) --> except that no_grad will set requires_flag=False temporarily; mentioning that no operation should build the graph.*"
      ],
      "metadata": {
        "id": "nEZZeTnROOQc"
      }
    },
    {
      "cell_type": "code",
      "source": [
        "Y_Predicted_Final = model(X).detach().numpy()\n"
      ],
      "metadata": {
        "id": "78xxXKC-ZpDI"
      },
      "execution_count": null,
      "outputs": []
    },
    {
      "cell_type": "code",
      "source": [
        "plt.plot(X_numpy, Y_numpy, 'mo')\n",
        "plt.plot(X_numpy, Y_Predicted_Final, 'b')\n",
        "plt.show()"
      ],
      "metadata": {
        "colab": {
          "base_uri": "https://localhost:8080/"
        },
        "id": "0FN49e-4T4DO",
        "outputId": "d40d03cd-0054-423e-eca1-43100eb6a601"
      },
      "execution_count": null,
      "outputs": [
        {
          "output_type": "display_data",
          "data": {
            "text/plain": [
              "<Figure size 640x480 with 1 Axes>"
            ],
            "image/png": "[encoded data removed]"
          },
          "metadata": {}
        }
      ]
    }
  ]
}