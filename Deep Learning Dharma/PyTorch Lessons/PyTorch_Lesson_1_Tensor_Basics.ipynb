{
  "nbformat": 4,
  "nbformat_minor": 0,
  "metadata": {
    "colab": {
      "provenance": []
    },
    "kernelspec": {
      "name": "python3",
      "display_name": "Python 3"
    },
    "language_info": {
      "name": "python"
    }
  },
  "cells": [
    {
      "cell_type": "code",
      "source": [
        "import torch\n",
        "import numpy as np"
      ],
      "metadata": {
        "id": "Ykwd2OKIMXqQ"
      },
      "execution_count": null,
      "outputs": []
    },
    {
      "cell_type": "code",
      "source": [
        "x = torch.empty(2) #Empty 1D Tensor\n",
        "y = torch.empty(3,4) #Empty 2D Tensor\n",
        "z = torch.empty(5,1,6) #Empty 3D Tensor"
      ],
      "metadata": {
        "id": "AQEtOF1uM3JS"
      },
      "execution_count": null,
      "outputs": []
    },
    {
      "cell_type": "code",
      "source": [
        "x"
      ],
      "metadata": {
        "colab": {
          "base_uri": "https://localhost:8080/"
        },
        "id": "JEw1KQkNM6R5",
        "outputId": "0b750aa5-a6fb-4e3a-dc5e-7625d041e0a0"
      },
      "execution_count": null,
      "outputs": [
        {
          "output_type": "execute_result",
          "data": {
            "text/plain": [
              "tensor([1.9235e-10, 4.4351e-41])"
            ]
          },
          "metadata": {},
          "execution_count": 23
        }
      ]
    },
    {
      "cell_type": "code",
      "source": [
        "y"
      ],
      "metadata": {
        "colab": {
          "base_uri": "https://localhost:8080/"
        },
        "id": "gax0EVzhM9GF",
        "outputId": "5fa34702-5883-4c8e-829b-4cd956280d37"
      },
      "execution_count": null,
      "outputs": [
        {
          "output_type": "execute_result",
          "data": {
            "text/plain": [
              "tensor([[5.3406e-24, 3.3124e-41, 5.3144e-24, 3.3124e-41],\n",
              "        [7.2708e+31, 5.0778e+31, 3.2608e-12, 1.7728e+28],\n",
              "        [7.0367e+22, 2.1715e-18, 1.3445e+22, 2.1478e-04]])"
            ]
          },
          "metadata": {},
          "execution_count": 24
        }
      ]
    },
    {
      "cell_type": "code",
      "source": [
        "z"
      ],
      "metadata": {
        "colab": {
          "base_uri": "https://localhost:8080/"
        },
        "id": "bHgVVnAKM9Zy",
        "outputId": "3c3853db-f8f8-4d4c-8e28-1ea7b705dab4"
      },
      "execution_count": null,
      "outputs": [
        {
          "output_type": "execute_result",
          "data": {
            "text/plain": [
              "tensor([[[0.0000e+00, 0.0000e+00, 0.0000e+00, 0.0000e+00, 0.0000e+00,\n",
              "          0.0000e+00]],\n",
              "\n",
              "        [[0.0000e+00, 0.0000e+00, 0.0000e+00, 0.0000e+00, 1.4013e-45,\n",
              "          0.0000e+00]],\n",
              "\n",
              "        [[0.0000e+00, 0.0000e+00, 0.0000e+00, 0.0000e+00, 0.0000e+00,\n",
              "          0.0000e+00]],\n",
              "\n",
              "        [[0.0000e+00, 0.0000e+00, 0.0000e+00, 0.0000e+00, 1.4013e-45,\n",
              "          0.0000e+00]],\n",
              "\n",
              "        [[9.1845e-41, 1.1551e-40, 4.5919e-41, 8.2957e-43, 1.9185e-20,\n",
              "          4.4351e-41]]])"
            ]
          },
          "metadata": {},
          "execution_count": 25
        }
      ]
    },
    {
      "cell_type": "code",
      "source": [
        "a = torch.ones(1,2) #Fills with 1s\n",
        "b = torch.zeros(3, dtype = int) #Fills with 0s + typecasts to int {default being float32\"}"
      ],
      "metadata": {
        "id": "ZHfksFvcM90K"
      },
      "execution_count": null,
      "outputs": []
    },
    {
      "cell_type": "code",
      "source": [
        "c = torch.tensor([3.2,4.8,9.6]) #Creating a tensor array"
      ],
      "metadata": {
        "id": "5uIVs4N1NCCb"
      },
      "execution_count": null,
      "outputs": []
    },
    {
      "cell_type": "code",
      "source": [
        "d = torch.rand(3,1,4)\n",
        "d"
      ],
      "metadata": {
        "colab": {
          "base_uri": "https://localhost:8080/"
        },
        "id": "Ux9yvuJMNF8B",
        "outputId": "3571b07b-a2be-42c2-ea6f-d9d7bd2d1867"
      },
      "execution_count": null,
      "outputs": [
        {
          "output_type": "execute_result",
          "data": {
            "text/plain": [
              "tensor([[[0.3019, 0.2603, 0.4287, 0.5307]],\n",
              "\n",
              "        [[0.6807, 0.3968, 0.2689, 0.7360]],\n",
              "\n",
              "        [[0.1740, 0.8579, 0.0825, 0.0720]]])"
            ]
          },
          "metadata": {},
          "execution_count": 28
        }
      ]
    },
    {
      "cell_type": "code",
      "source": [
        "e = torch.rand(2,2)\n",
        "f = torch.rand(2,2)\n",
        "\n",
        "g = e+f\n",
        "h = torch.add(e,f)\n",
        "\n",
        "print(g) #element-wise addition\n",
        "print(h) #element-wise addition"
      ],
      "metadata": {
        "colab": {
          "base_uri": "https://localhost:8080/"
        },
        "id": "rI05QuVHNKTo",
        "outputId": "97741da1-71c3-453f-dc66-e155f81981f3"
      },
      "execution_count": null,
      "outputs": [
        {
          "output_type": "stream",
          "name": "stdout",
          "text": [
            "tensor([[0.7195, 0.8922],\n",
            "        [1.2106, 1.6300]])\n",
            "tensor([[0.7195, 0.8922],\n",
            "        [1.2106, 1.6300]])\n"
          ]
        }
      ]
    },
    {
      "cell_type": "code",
      "source": [
        "e.add_(f) #in-place addition\n"
      ],
      "metadata": {
        "colab": {
          "base_uri": "https://localhost:8080/"
        },
        "id": "YRCyvWHENaSw",
        "outputId": "7b24e426-d767-4417-9099-15ec8986f808"
      },
      "execution_count": null,
      "outputs": [
        {
          "output_type": "execute_result",
          "data": {
            "text/plain": [
              "tensor([[0.7195, 0.8922],\n",
              "        [1.2106, 1.6300]])"
            ]
          },
          "metadata": {},
          "execution_count": 30
        }
      ]
    },
    {
      "cell_type": "code",
      "source": [
        "i = e-f\n",
        "j = torch.sub(e,f)\n",
        "\n",
        "print(i)\n",
        "print(j)"
      ],
      "metadata": {
        "colab": {
          "base_uri": "https://localhost:8080/"
        },
        "id": "DF6L3IwdhGjt",
        "outputId": "f5580b39-f3d0-40c8-c27b-774da8046b8d"
      },
      "execution_count": null,
      "outputs": [
        {
          "output_type": "stream",
          "name": "stdout",
          "text": [
            "tensor([[0.0949, 0.3255],\n",
            "        [0.7311, 0.9745]])\n",
            "tensor([[0.0949, 0.3255],\n",
            "        [0.7311, 0.9745]])\n"
          ]
        }
      ]
    },
    {
      "cell_type": "code",
      "source": [
        "k = e*f\n",
        "l = torch.mul(e,f)\n",
        "\n",
        "print(k)\n",
        "print(l)"
      ],
      "metadata": {
        "colab": {
          "base_uri": "https://localhost:8080/"
        },
        "id": "tzH6BLYah1Bf",
        "outputId": "9b765289-3f9a-49aa-ccb1-51819565d8ba"
      },
      "execution_count": null,
      "outputs": [
        {
          "output_type": "stream",
          "name": "stdout",
          "text": [
            "tensor([[0.4493, 0.5057],\n",
            "        [0.5804, 1.0685]])\n",
            "tensor([[0.4493, 0.5057],\n",
            "        [0.5804, 1.0685]])\n"
          ]
        }
      ]
    },
    {
      "cell_type": "code",
      "source": [
        "g = e.view(4) #resizing tensor array\n",
        "g"
      ],
      "metadata": {
        "id": "o-WGFhxyh-qc",
        "colab": {
          "base_uri": "https://localhost:8080/"
        },
        "outputId": "837a835f-c24e-4b7b-a1fa-c45258a580be"
      },
      "execution_count": null,
      "outputs": [
        {
          "output_type": "execute_result",
          "data": {
            "text/plain": [
              "tensor([0.7195, 0.8922, 1.2106, 1.6300])"
            ]
          },
          "metadata": {},
          "execution_count": 33
        }
      ]
    },
    {
      "cell_type": "code",
      "source": [
        "m = e.view(-1,4) #-1 denotes not specifying size in one dimension and 4 specifies size in the other dimension\n",
        "print(m.size())"
      ],
      "metadata": {
        "colab": {
          "base_uri": "https://localhost:8080/"
        },
        "id": "bhKgL3g0lbM8",
        "outputId": "bc4dbe81-c8fe-4df3-d7a1-e60f1a67487f"
      },
      "execution_count": null,
      "outputs": [
        {
          "output_type": "stream",
          "name": "stdout",
          "text": [
            "torch.Size([1, 4])\n"
          ]
        }
      ]
    },
    {
      "cell_type": "code",
      "source": [
        "m"
      ],
      "metadata": {
        "colab": {
          "base_uri": "https://localhost:8080/"
        },
        "id": "OIq9hnZZllxr",
        "outputId": "c64b4422-2fae-45df-93f8-5edf559425ab"
      },
      "execution_count": null,
      "outputs": [
        {
          "output_type": "execute_result",
          "data": {
            "text/plain": [
              "tensor([[0.7195, 0.8922, 1.2106, 1.6300]])"
            ]
          },
          "metadata": {},
          "execution_count": 35
        }
      ]
    },
    {
      "cell_type": "code",
      "source": [
        "a = torch.ones(5)\n",
        "print(a)\n",
        "          #Converting from tensor to numpy\n",
        "b = a.numpy()\n",
        "print(b) #Note: a & b both point to the same variable location in memory; so any alterations in any one variable\n",
        "         # will automatically affect the other variable. [if operation is happening in CPU]"
      ],
      "metadata": {
        "colab": {
          "base_uri": "https://localhost:8080/"
        },
        "id": "T3dxgyMolpY1",
        "outputId": "1b1714d3-27dd-460e-98ad-50cb2b82ae69"
      },
      "execution_count": null,
      "outputs": [
        {
          "output_type": "stream",
          "name": "stdout",
          "text": [
            "tensor([1., 1., 1., 1., 1.])\n",
            "[1. 1. 1. 1. 1.]\n"
          ]
        }
      ]
    },
    {
      "cell_type": "code",
      "source": [
        "c = np.ones(6)\n",
        "print(c)\n",
        "         #Converting from numpy to tensor\n",
        "d = torch.from_numpy(c)\n",
        "print(d) #Note: c & d both point to the same variable location in memory; so any alterations in any one variable\n",
        "         # will automatically affect the other variable. [if operation is happening in CPU]\n",
        "\n"
      ],
      "metadata": {
        "colab": {
          "base_uri": "https://localhost:8080/"
        },
        "id": "n0GHlrN2mjnH",
        "outputId": "9b6bbd32-e846-4e1b-a3ad-fa348c4770aa"
      },
      "execution_count": null,
      "outputs": [
        {
          "output_type": "stream",
          "name": "stdout",
          "text": [
            "[1. 1. 1. 1. 1. 1.]\n",
            "tensor([1., 1., 1., 1., 1., 1.], dtype=torch.float64)\n"
          ]
        }
      ]
    },
    {
      "cell_type": "code",
      "source": [
        "if torch.cuda.is_available():\n",
        "\n",
        "  device = torch.device(\"cuda\")\n",
        "  x = torch.ones(5, device=device) #Creating a tensor in GPU using CUDA toolkit\n",
        "\n",
        "  y = torch.ones(5) #Originally creating a tensor in CPU\n",
        "  y = y.to(device) #Converting from CPU tensor to GPU tensor\n",
        "  z = x+y          # Adding up tensors in GPU\n",
        "  z = z.to(\"cpu\")  #Converting the result obtained in GPU tensor to CPU tensor\n",
        "\n"
      ],
      "metadata": {
        "id": "SVGdkOWenMEz"
      },
      "execution_count": null,
      "outputs": []
    },
    {
      "cell_type": "code",
      "source": [
        "d = torch.ones(10, requires_grad=True) #Creates a tensor where optimization may be required later on: so gradients are computed through this option\n",
        "print(d)"
      ],
      "metadata": {
        "id": "Z6JX7H6zoyBT"
      },
      "execution_count": null,
      "outputs": []
    }
  ]
}