{
  "nbformat": 4,
  "nbformat_minor": 0,
  "metadata": {
    "colab": {
      "provenance": []
    },
    "kernelspec": {
      "name": "python3",
      "display_name": "Python 3"
    },
    "language_info": {
      "name": "python"
    }
  },
  "cells": [
    {
      "cell_type": "code",
      "execution_count": null,
      "metadata": {
        "id": "cAnQrHH1bif6"
      },
      "outputs": [],
      "source": [
        "import torch\n",
        "import torchvision\n",
        "import torch.nn as nn\n",
        "from torch.utils.data import Dataset, DataLoader\n",
        "\n",
        "import numpy as np\n",
        "import math"
      ]
    },
    {
      "cell_type": "code",
      "source": [
        "from google.colab import drive\n",
        "drive.mount('/content/drive')"
      ],
      "metadata": {
        "colab": {
          "base_uri": "https://localhost:8080/"
        },
        "id": "1gyRMuy7d-Ew",
        "outputId": "573413be-7c40-4481-f38a-47e1a0f20af2"
      },
      "execution_count": null,
      "outputs": [
        {
          "output_type": "stream",
          "name": "stdout",
          "text": [
            "Mounted at /content/drive\n"
          ]
        }
      ]
    },
    {
      "cell_type": "markdown",
      "source": [
        "### **Phase 1: Dataset subclassed and implemented the passing of input/output parameters**"
      ],
      "metadata": {
        "id": "crB-sTWTNf3b"
      }
    },
    {
      "cell_type": "code",
      "source": [
        "class WineDataset(Dataset):\n",
        "\n",
        "  def __init__(self):\n",
        "\n",
        "    dat = np.loadtxt('/content/drive/MyDrive/wine.csv', delimiter=\",\", dtype=np.float32, skiprows=1) # Row no. 1 is being skipped as it contains only header label\n",
        "    self.x = torch.from_numpy(dat[:, 1:])\n",
        "    self.y = torch.from_numpy(dat[:, [0]])\n",
        "    self.n_samples = dat.shape[0]\n",
        "\n",
        "\n",
        "  def __getitem__(self,index):\n",
        "    return self.x[index],self.y[index]\n",
        "\n",
        "  def __len__(self):\n",
        "    return self.n_samples\n"
      ],
      "metadata": {
        "id": "6s_ea9H4b6B8"
      },
      "execution_count": null,
      "outputs": []
    },
    {
      "cell_type": "code",
      "source": [
        "dataset = WineDataset()\n",
        "wine_first_data = dataset[0]\n",
        "\n",
        "features, labels = wine_first_data\n",
        "\n",
        "print(features, labels)"
      ],
      "metadata": {
        "colab": {
          "base_uri": "https://localhost:8080/"
        },
        "id": "8RiiRl-0e5v8",
        "outputId": "384bbaab-f65f-42cc-9f1f-7cd55774b87b"
      },
      "execution_count": null,
      "outputs": [
        {
          "output_type": "stream",
          "name": "stdout",
          "text": [
            "tensor([1.4230e+01, 1.7100e+00, 2.4300e+00, 1.5600e+01, 1.2700e+02, 2.8000e+00,\n",
            "        3.0600e+00, 2.8000e-01, 2.2900e+00, 5.6400e+00, 1.0400e+00, 3.9200e+00,\n",
            "        1.0650e+03]) tensor([1.])\n"
          ]
        }
      ]
    },
    {
      "cell_type": "markdown",
      "source": [
        "### **Phase 2: Loaded Data, Splitting Into Batches for Faster Processing**"
      ],
      "metadata": {
        "id": "C79NmYO9Nu-Q"
      }
    },
    {
      "cell_type": "code",
      "source": [
        "dataloader = DataLoader(dataset=dataset, batch_size=4, shuffle=True, num_workers=2) # Assigning multiple worker nodes tend to parallelize the processing"
      ],
      "metadata": {
        "id": "ikJyGC_AfpzL"
      },
      "execution_count": null,
      "outputs": []
    },
    {
      "cell_type": "code",
      "source": [
        "# Training Loop\n",
        "\n",
        "num_epochs = 2\n",
        "\n",
        "total_samples = len(dataset)\n",
        "\n",
        "n_iterations = math.ceil(total_samples/4) # --> /4 because batch size = 4\n",
        "\n",
        "print(total_samples, n_iterations)"
      ],
      "metadata": {
        "colab": {
          "base_uri": "https://localhost:8080/"
        },
        "id": "Nkt1y34IMuta",
        "outputId": "3d3547a8-dbb8-4072-883a-d1c22008d8c6"
      },
      "execution_count": null,
      "outputs": [
        {
          "output_type": "stream",
          "name": "stdout",
          "text": [
            "178 45\n"
          ]
        }
      ]
    },
    {
      "cell_type": "code",
      "source": [
        "for epoch in range(num_epochs):\n",
        "  for step, (inputs, labels) in enumerate(dataloader):\n",
        "\n",
        "    # Forward, backward and update:\n",
        "\n",
        "    if (step+1) % 5 == 0:\n",
        "\n",
        "      print(f'Epoch {epoch+1}/{num_epochs}, Step {step+1}/{n_iterations}, Inputs {inputs.shape}')"
      ],
      "metadata": {
        "colab": {
          "base_uri": "https://localhost:8080/"
        },
        "id": "ZZl--VltN9t_",
        "outputId": "84765539-9596-41d5-e8ff-f661e509112c"
      },
      "execution_count": null,
      "outputs": [
        {
          "output_type": "stream",
          "name": "stdout",
          "text": [
            "Epoch 1/2, Step 5/45, Inputs torch.Size([4, 13])\n",
            "Epoch 1/2, Step 10/45, Inputs torch.Size([4, 13])\n",
            "Epoch 1/2, Step 15/45, Inputs torch.Size([4, 13])\n",
            "Epoch 1/2, Step 20/45, Inputs torch.Size([4, 13])\n",
            "Epoch 1/2, Step 25/45, Inputs torch.Size([4, 13])\n",
            "Epoch 1/2, Step 30/45, Inputs torch.Size([4, 13])\n",
            "Epoch 1/2, Step 35/45, Inputs torch.Size([4, 13])\n",
            "Epoch 1/2, Step 40/45, Inputs torch.Size([4, 13])\n",
            "Epoch 1/2, Step 45/45, Inputs torch.Size([2, 13])\n",
            "Epoch 2/2, Step 5/45, Inputs torch.Size([4, 13])\n",
            "Epoch 2/2, Step 10/45, Inputs torch.Size([4, 13])\n",
            "Epoch 2/2, Step 15/45, Inputs torch.Size([4, 13])\n",
            "Epoch 2/2, Step 20/45, Inputs torch.Size([4, 13])\n",
            "Epoch 2/2, Step 25/45, Inputs torch.Size([4, 13])\n",
            "Epoch 2/2, Step 30/45, Inputs torch.Size([4, 13])\n",
            "Epoch 2/2, Step 35/45, Inputs torch.Size([4, 13])\n",
            "Epoch 2/2, Step 40/45, Inputs torch.Size([4, 13])\n",
            "Epoch 2/2, Step 45/45, Inputs torch.Size([2, 13])\n"
          ]
        }
      ]
    },
    {
      "cell_type": "code",
      "source": [],
      "metadata": {
        "id": "eeFyDyyGPFyf"
      },
      "execution_count": null,
      "outputs": []
    }
  ]
}