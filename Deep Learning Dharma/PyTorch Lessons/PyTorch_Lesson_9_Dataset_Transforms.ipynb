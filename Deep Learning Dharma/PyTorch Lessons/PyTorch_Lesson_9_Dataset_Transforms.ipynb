{
  "nbformat": 4,
  "nbformat_minor": 0,
  "metadata": {
    "colab": {
      "provenance": []
    },
    "kernelspec": {
      "name": "python3",
      "display_name": "Python 3"
    },
    "language_info": {
      "name": "python"
    }
  },
  "cells": [
    {
      "cell_type": "code",
      "execution_count": null,
      "metadata": {
        "id": "r7g4lJkdq1N4"
      },
      "outputs": [],
      "source": [
        "import torch\n",
        "import torchvision\n",
        "from torch.utils.data import Dataset\n",
        "import numpy as np"
      ]
    },
    {
      "cell_type": "code",
      "source": [
        "from google.colab import drive\n",
        "drive.mount('/content/drive')"
      ],
      "metadata": {
        "colab": {
          "base_uri": "https://localhost:8080/"
        },
        "id": "9SOyyM0-vNoc",
        "outputId": "078d080c-c24e-429e-971c-d826fdd47930"
      },
      "execution_count": null,
      "outputs": [
        {
          "output_type": "stream",
          "name": "stdout",
          "text": [
            "Drive already mounted at /content/drive; to attempt to forcibly remount, call drive.mount(\"/content/drive\", force_remount=True).\n"
          ]
        }
      ]
    },
    {
      "cell_type": "markdown",
      "source": [
        "### **Phase 1: Obtaining Dataset & Defining It Using Dataset Class**"
      ],
      "metadata": {
        "id": "ktLm8rZ6dzRi"
      }
    },
    {
      "cell_type": "code",
      "source": [
        "class WineDataset(Dataset):\n",
        "\n",
        "  def __init__(self, transform=None):\n",
        "\n",
        "    xy = np.loadtxt('/content/drive/MyDrive/wine.csv', delimiter=\",\", dtype=np.float32, skiprows=1) # Row no. 1 is being skipped as it contains only header label\n",
        "    self.number_of_samples = xy.shape[0]\n",
        "\n",
        "\n",
        "    self.x = xy[:,1:]\n",
        "    self.y = xy[:,[0]]\n",
        "\n",
        "    self.transform = transform\n",
        "\n",
        "\n",
        "  def __getitem__(self, index):\n",
        "\n",
        "    sample = self.x[index], self.y[index]\n",
        "\n",
        "    if self.transform: # If we apply option to transform the data, the subsequent step\n",
        "      sample = self.transform(sample)\n",
        "\n",
        "    return sample\n",
        "\n",
        "  def __len__(self):\n",
        "    return self.number_of_samples"
      ],
      "metadata": {
        "id": "xtg0oNeLr01S"
      },
      "execution_count": null,
      "outputs": []
    },
    {
      "cell_type": "markdown",
      "source": [
        "### **Phase 2: Defining 2 Transformation Classes**"
      ],
      "metadata": {
        "id": "3wTtoPe3eBPB"
      }
    },
    {
      "cell_type": "code",
      "source": [
        "class ToTensor():\n",
        "\n",
        "  def __call__(self, sample):\n",
        "\n",
        "    inputs, labels = sample\n",
        "    return torch.from_numpy(inputs), torch.from_numpy(labels)\n"
      ],
      "metadata": {
        "id": "_fnv4ricubwW"
      },
      "execution_count": null,
      "outputs": []
    },
    {
      "cell_type": "code",
      "source": [
        "class MulTransform():\n",
        "\n",
        "  def __init__(self, factor):\n",
        "    self.factor = factor\n",
        "\n",
        "  def __call__(self, sample):\n",
        "    inputs, targets = sample\n",
        "    inputs *= self.factor\n",
        "\n",
        "    return inputs, targets\n"
      ],
      "metadata": {
        "id": "-Uch06YVwwFq"
      },
      "execution_count": null,
      "outputs": []
    },
    {
      "cell_type": "markdown",
      "source": [
        "### **Phase 3: Checking Transformed Dataset**"
      ],
      "metadata": {
        "id": "E0gGV_2XeIsF"
      }
    },
    {
      "cell_type": "code",
      "source": [
        "dataset = WineDataset(transform=None) # We can pass a single transform class here directly as a parameter"
      ],
      "metadata": {
        "id": "wOLnPUM9rEYI"
      },
      "execution_count": null,
      "outputs": []
    },
    {
      "cell_type": "code",
      "source": [
        "first_data = dataset[0]\n",
        "features, targets = first_data\n",
        "print(features)"
      ],
      "metadata": {
        "colab": {
          "base_uri": "https://localhost:8080/"
        },
        "id": "QKea_PbruRdq",
        "outputId": "717d7a55-9e90-4be0-b4a4-39b433ab56c8"
      },
      "execution_count": null,
      "outputs": [
        {
          "output_type": "stream",
          "name": "stdout",
          "text": [
            "[1.423e+01 1.710e+00 2.430e+00 1.560e+01 1.270e+02 2.800e+00 3.060e+00\n",
            " 2.800e-01 2.290e+00 5.640e+00 1.040e+00 3.920e+00 1.065e+03]\n"
          ]
        }
      ]
    },
    {
      "cell_type": "code",
      "source": [
        "composed = torchvision.transforms.Compose([ToTensor(), MulTransform(factor=3)]) # Compose is used for providing a list of multiple transforms"
      ],
      "metadata": {
        "id": "JI8Fbyz8weJu"
      },
      "execution_count": null,
      "outputs": []
    },
    {
      "cell_type": "code",
      "source": [
        "mod_dataset = WineDataset(transform=composed)\n",
        "sample_data = mod_dataset[0]\n",
        "\n",
        "features, labels = sample_data\n",
        "\n",
        "print(features)\n"
      ],
      "metadata": {
        "colab": {
          "base_uri": "https://localhost:8080/"
        },
        "id": "9XQJ6NZbxvl8",
        "outputId": "00008490-8fa3-49ab-89e6-97b3edddb41d"
      },
      "execution_count": null,
      "outputs": [
        {
          "output_type": "stream",
          "name": "stdout",
          "text": [
            "tensor([4.2690e+01, 5.1300e+00, 7.2900e+00, 4.6800e+01, 3.8100e+02, 8.4000e+00,\n",
            "        9.1800e+00, 8.4000e-01, 6.8700e+00, 1.6920e+01, 3.1200e+00, 1.1760e+01,\n",
            "        3.1950e+03])\n"
          ]
        }
      ]
    }
  ]
}