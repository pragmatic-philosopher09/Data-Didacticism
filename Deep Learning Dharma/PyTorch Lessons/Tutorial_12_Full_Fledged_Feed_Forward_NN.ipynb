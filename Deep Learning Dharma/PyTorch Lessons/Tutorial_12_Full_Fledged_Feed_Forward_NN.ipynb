{
  "nbformat": 4,
  "nbformat_minor": 0,
  "metadata": {
    "colab": {
      "provenance": []
    },
    "kernelspec": {
      "name": "python3",
      "display_name": "Python 3"
    },
    "language_info": {
      "name": "python"
    }
  },
  "cells": [
    {
      "cell_type": "markdown",
      "source": [
        "## **Steps:**\n",
        "\n",
        "\n",
        "\n",
        "1.   MNIST Dataset\n",
        "2.   DataLoader + Transformation\n",
        "3.   Multilayer NN + Activation Function\n",
        "4. Loss & Optimizer\n",
        "5. Training Loop (Batch Training)\n",
        "6. Model Evaluation\n",
        "7. GPU Support\n",
        "\n",
        "\n",
        "\n"
      ],
      "metadata": {
        "id": "dnxW1-Yv5cii"
      }
    },
    {
      "cell_type": "code",
      "execution_count": null,
      "metadata": {
        "id": "RUQUT8085NXq"
      },
      "outputs": [],
      "source": [
        "import torch\n",
        "import torch.nn as nn\n",
        "import torchvision\n",
        "import torchvision.transforms as transforms\n",
        "import matplotlib.pyplot as plt"
      ]
    },
    {
      "cell_type": "code",
      "source": [
        "# CUDA Device Configuration\n",
        "\n",
        "device = torch.device('cuda' if torch.cuda.is_available() else 'cpu')\n",
        "\n",
        "# Hyperparameters\n",
        "\n",
        "input_size = 784 # 28 x28\n",
        "hidden_size = 100\n",
        "num_classes = 10\n",
        "\n",
        "# arbitrary: subject to experimentation\n",
        "\n",
        "num_epochs = 2\n",
        "batch_size = 100\n",
        "learning_rate = 0.001\n",
        "\n"
      ],
      "metadata": {
        "id": "BIXUKKqBATx2"
      },
      "execution_count": null,
      "outputs": []
    },
    {
      "cell_type": "code",
      "source": [
        "# MNIST\n",
        "\n",
        "train_dataset = torchvision.datasets.MNIST(root='./data', train=True, transform=transforms.ToTensor(),download=True) # download=true, because we're retrieving the dataset here for the first time\n",
        "\n",
        "test_dataset = torchvision.datasets.MNIST(root='./data', train=False, transform=transforms.ToTensor())\n",
        "\n",
        "train_loader = torch.utils.data.DataLoader(dataset=train_dataset, batch_size = batch_size, shuffle=True) # data shuffling for enabling better training\n",
        "\n",
        "test_loader = torch.utils.data.DataLoader(dataset=test_dataset, batch_size = batch_size, shuffle=False) # shuffle=false, as it doesn't matter anyway for evaluation"
      ],
      "metadata": {
        "id": "iWI6FXkqA4Tk"
      },
      "execution_count": null,
      "outputs": []
    },
    {
      "cell_type": "code",
      "source": [
        "examples = iter(train_loader)\n",
        "samples, labels = next(examples) # In older torch version this would have been examples.next\n",
        "print(samples.shape, labels.shape)"
      ],
      "metadata": {
        "colab": {
          "base_uri": "https://localhost:8080/"
        },
        "id": "Mm8SVdSMCDaJ",
        "outputId": "5525f013-8fc2-4d0d-fa96-f51f73424238"
      },
      "execution_count": null,
      "outputs": [
        {
          "output_type": "stream",
          "name": "stdout",
          "text": [
            "torch.Size([100, 1, 28, 28]) torch.Size([100])\n"
          ]
        }
      ]
    },
    {
      "cell_type": "markdown",
      "source": [
        "***Explanation of above output:***\n",
        "\n",
        "sample.shape returns --> 100x1x28x28\n",
        "labels.shape returns --> 100\n",
        "\n",
        "1. 100 is the batch size in a sample, 1 denotes number of channels {in image --> there can be red, green, blue channels --> since this MNIST dataset images are not coloured, therefore, they have only 1 channel.}\n",
        "\n",
        "2. 28x28 is the size of image array/vector which will be filled with pixel values.\n",
        "\n",
        "\n",
        "\n"
      ],
      "metadata": {
        "id": "PLiS5TaFDsXO"
      }
    },
    {
      "cell_type": "code",
      "source": [
        "for i in range(6):\n",
        "  plt.subplot(2,3,i+1) # '2' == nos. of rows, '3' == nos. of columns\n",
        "\n",
        "  plt.imshow(samples[i][0], cmap='gray') # The second index '0' denotes channel --> in this context being the first (and only channel)\n",
        "\n",
        "plt.show()"
      ],
      "metadata": {
        "colab": {
          "base_uri": "https://localhost:8080/",
          "height": 411
        },
        "id": "bi8nwwt7C70a",
        "outputId": "1fc92dc6-9cc5-4eab-bd8e-a7006f3f176f"
      },
      "execution_count": null,
      "outputs": [
        {
          "output_type": "display_data",
          "data": {
            "text/plain": [
              "<Figure size 640x480 with 6 Axes>"
            ],
            "image/png": "[encoded data removed]"
          },
          "metadata": {}
        }
      ]
    },
    {
      "cell_type": "code",
      "source": [
        "class NeuralNet(nn.Module):\n",
        "\n",
        "  def __init__(self, input_size, hidden_size, num_classes):\n",
        "\n",
        "    super(NeuralNet, self).__init__() # Typical constructor def\n",
        "\n",
        "    self.l1 = nn.Linear(input_size, hidden_size) # First Linear Layer\n",
        "\n",
        "    self.relu = nn.ReLU() # Activation function\n",
        "\n",
        "    self.l2 = nn.Linear(hidden_size,num_classes) # Second Linear Layer\n",
        "\n",
        "  def forward(self, x):\n",
        "\n",
        "    out = self.l1(x)\n",
        "    out = self.relu(out)\n",
        "    out = self.l2(out)\n",
        "\n",
        "    return out"
      ],
      "metadata": {
        "id": "m_vC9vDDHAoP"
      },
      "execution_count": null,
      "outputs": []
    },
    {
      "cell_type": "code",
      "source": [
        "model = NeuralNet(input_size, hidden_size, num_classes).to(device) # to(device) will push model to GPU!"
      ],
      "metadata": {
        "id": "_kWTXEh_IWEE"
      },
      "execution_count": null,
      "outputs": []
    },
    {
      "cell_type": "code",
      "source": [
        "# Loss & Optimizer\n",
        "\n",
        "criterion = nn.CrossEntropyLoss() # Will automatically apply the softmax function\n",
        "\n",
        "optimizer = torch.optim.Adam(model.parameters(), lr=learning_rate)\n"
      ],
      "metadata": {
        "id": "deddjt6WIbZv"
      },
      "execution_count": null,
      "outputs": []
    },
    {
      "cell_type": "code",
      "source": [
        "# Training Loop\n",
        "\n",
        "n_total_steps = len(train_loader)\n",
        "flatten = nn.Flatten()\n",
        "\n",
        "\n",
        "for epoch in range(num_epochs):\n",
        "  for i, (images, labels) in enumerate(train_loader):\n",
        "\n",
        "    # images = flatten(images)\n",
        "\n",
        "    # Now we need to reshape our tensors\n",
        "\n",
        "\n",
        "    # Originally images {or samples} array had a size: 100x1x28x28 --> 4D format\n",
        "    # So we need to scale down from 4D --> 2D:\n",
        "\n",
        "    # New size ought to be: (100x784) --> 28*28 = 784\n",
        "\n",
        "    images = images.reshape(-1, 28*28).to(device) # --> -1 as first index means we let the tensor figure out by itself on what dimensions it can take\n",
        "    labels = labels.to(device)\n",
        "\n",
        "    # Forward pass\n",
        "    outputs = model(images)\n",
        "\n",
        "    loss = criterion(outputs,labels) # Defining loss value parameter\n",
        "    # Normally loss is computed by taking y (output) & y_pred (predicted output);\n",
        "\n",
        "    # But here we've y_pred = output {from model(images), as expected --> to yield label of the image}\n",
        "    # and y = labels; that is correct labels\n",
        "\n",
        "    optimizer.zero_grad() # Resetting/flushing out the existing gradients\n",
        "\n",
        "    loss.backward() # Computing fresh gradients\n",
        "\n",
        "    optimizer.step() # Updating the weights\n",
        "\n",
        "    if (i+1) % 100 ==0:\n",
        "      print(f'Epoch {epoch+1}/{num_epochs}, Step {i+1}/{n_total_steps}, loss = {loss.item():.8f}')\n",
        "\n",
        "\n",
        "\n"
      ],
      "metadata": {
        "id": "votH8mwUI9JO",
        "colab": {
          "base_uri": "https://localhost:8080/"
        },
        "outputId": "6d83ef3d-4184-4426-e32d-292c341058c1"
      },
      "execution_count": null,
      "outputs": [
        {
          "output_type": "stream",
          "name": "stdout",
          "text": [
            "Epoch 1/2, Step 100/600, loss = 0.44197944\n",
            "Epoch 1/2, Step 200/600, loss = 0.17643750\n",
            "Epoch 1/2, Step 300/600, loss = 0.28665215\n",
            "Epoch 1/2, Step 400/600, loss = 0.33549839\n",
            "Epoch 1/2, Step 500/600, loss = 0.34042799\n",
            "Epoch 1/2, Step 600/600, loss = 0.26554257\n",
            "Epoch 2/2, Step 100/600, loss = 0.21848439\n",
            "Epoch 2/2, Step 200/600, loss = 0.17897274\n",
            "Epoch 2/2, Step 300/600, loss = 0.23387478\n",
            "Epoch 2/2, Step 400/600, loss = 0.15274253\n",
            "Epoch 2/2, Step 500/600, loss = 0.21404940\n",
            "Epoch 2/2, Step 600/600, loss = 0.07901761\n"
          ]
        }
      ]
    },
    {
      "cell_type": "code",
      "source": [
        "# Testing\n",
        "\n",
        "with torch.no_grad():\n",
        "    n_correct = 0\n",
        "    n_samples = 0\n",
        "    for images, labels in test_loader:\n",
        "        images = images.reshape(-1, 28*28).to(device)\n",
        "        labels = labels.to(device)\n",
        "        outputs = model(images)\n",
        "\n",
        "        # max returns (value ,index)\n",
        "\n",
        "        _, predicted = torch.max(outputs, 1) # Follows the logits' logic of giving max value for predicted class label {refer softmax & cross-entropy loss functioning}\n",
        "\n",
        "        n_samples += labels.shape[0] # Returns the number of samples in current batch\n",
        "\n",
        "        n_correct += (predicted == labels).sum().item()\n",
        "\n",
        "    accuracy = 100.0 * n_correct / n_samples\n",
        "    print(f'Accuracy of the network on the 10000 test images: {accuracy} %')"
      ],
      "metadata": {
        "colab": {
          "base_uri": "https://localhost:8080/"
        },
        "id": "DB-kqZiuSzWD",
        "outputId": "13044e82-5d22-4200-c871-b93f0fc8e323"
      },
      "execution_count": null,
      "outputs": [
        {
          "output_type": "stream",
          "name": "stdout",
          "text": [
            "Accuracy of the network on the 10000 test images: 95.44 %\n"
          ]
        }
      ]
    }
  ]
}