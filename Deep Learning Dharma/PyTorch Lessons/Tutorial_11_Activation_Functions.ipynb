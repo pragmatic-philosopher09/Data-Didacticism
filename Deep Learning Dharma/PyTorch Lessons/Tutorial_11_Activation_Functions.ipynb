{
  "nbformat": 4,
  "nbformat_minor": 0,
  "metadata": {
    "colab": {
      "provenance": []
    },
    "kernelspec": {
      "name": "python3",
      "display_name": "Python 3"
    },
    "language_info": {
      "name": "python"
    }
  },
  "cells": [
    {
      "cell_type": "code",
      "execution_count": null,
      "metadata": {
        "id": "WeJGmEY_M5zO"
      },
      "outputs": [],
      "source": [
        "import torch\n",
        "import torch.nn as nn\n",
        "import torch.nn.functional as F"
      ]
    },
    {
      "cell_type": "markdown",
      "source": [
        "### **Method 1: Using torch.nn's activation functions**"
      ],
      "metadata": {
        "id": "dHZWejerei7r"
      }
    },
    {
      "cell_type": "code",
      "source": [
        "class NeuralNet1(nn.Module):\n",
        "\n",
        "  def __init__(self, input_size, hidden_size):\n",
        "    super(NeuralNet1,self).__init__() #constructor\n",
        "\n",
        "    self.linear1 = nn.Linear(input_size, hidden_size) # 'hidden_size' is basically output size for first linear layer, which will be utilized by further layer\n",
        "    self.relu = nn.ReLU()\n",
        "    self.linear2 = nn.Linear(hidden_size, 1) # Input size = 'hidden_size', o/p size = 1\n",
        "    self.sigmoid = nn.Sigmoid()\n",
        "\n",
        "\n",
        "  def forward(self, x):\n",
        "\n",
        "    out = self.linear1(x)\n",
        "    out = self.relu(out)\n",
        "    out = self.linear2(out)\n",
        "    out = self.sigmoid(out)\n",
        "\n"
      ],
      "metadata": {
        "id": "lokDvgZJZmsP"
      },
      "execution_count": null,
      "outputs": []
    },
    {
      "cell_type": "markdown",
      "source": [
        "### **Method 2: Directly using the torch's activation functions**"
      ],
      "metadata": {
        "id": "3L59eW30e3YG"
      }
    },
    {
      "cell_type": "code",
      "source": [
        "class NeuralNet2(nn.Module):\n",
        "\n",
        "  def __init__(self, input_size, hidden_layer_size):\n",
        "    super(NeuralNet2, self).__init__()\n",
        "\n",
        "    self.linear1 = nn.Linear(input_size, hidden_layer_size)\n",
        "    self.linear2 = nn.Linear(hidden_layer_size, 1)\n",
        "\n",
        "  def forward(self,x):\n",
        "\n",
        "   out = torch.relu(self.linear1(x))\n",
        "   out = torch.sigmoid(self.linear2(out))"
      ],
      "metadata": {
        "id": "DJ089oHZZwzm"
      },
      "execution_count": null,
      "outputs": []
    },
    {
      "cell_type": "markdown",
      "source": [
        "***Difference between using torch.nn.Sigmoid() [or any activation function] & torch.sigmoid():***\n",
        "\n",
        "On instantiating *torch.nn.Sigmoid*, we get a function object [Sigmoid is a class], that is, an object that we can call like a function. In contrast, *torch.sigmoid* is a function.\n",
        "\n",
        "***Why using function object?***\n",
        "\n",
        "*In many cases when we construct a pytorch function object you can pass* *in parameters to the constructor that control the behavior of the function*. *This is useful in cases where where the caller isn't*\n",
        "*able or it might just be annoying to pass in those parameters*\n",
        "*when actually calling the function.*\n",
        "\n"
      ],
      "metadata": {
        "id": "2qGtMui6fBSB"
      }
    }
  ]
}