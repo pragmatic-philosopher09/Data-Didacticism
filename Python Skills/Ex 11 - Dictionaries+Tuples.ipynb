{
 "cells": [
  {
   "cell_type": "code",
   "execution_count": 16,
   "metadata": {},
   "outputs": [],
   "source": [
    "popCountry = {\"China\":143, \"India\":136, \"USA\":32, \"Pakistan\":21}\n"
   ]
  },
  {
   "cell_type": "markdown",
   "metadata": {},
   "source": []
  },
  {
   "cell_type": "code",
   "execution_count": 17,
   "metadata": {},
   "outputs": [
    {
     "name": "stdout",
     "output_type": "stream",
     "text": [
      "China==>143\n",
      "India==>136\n",
      "USA==>32\n",
      "Pakistan==>21\n"
     ]
    }
   ],
   "source": [
    "operationQuery = input(\"ENTER THE TYPE OF OPERATION YOU WANT TO PERFORM ==>\")\n",
    "\n",
    "if operationQuery==\"print\":\n",
    "    for country,population in popCountry.items():\n",
    "        print(f\"{country}==>{population}\")\n",
    "elif operationQuery==\"add\":\n",
    "    newCountry = input(\"Enter country name for addition ==> \")\n",
    "    if newCountry in popCountry:\n",
    "        print(\"Already exists\")\n",
    "    else:\n",
    "        pop = input(\"Enter corresponding population for it ==> \")\n",
    "        popCountry[newCountry] = pop\n",
    "elif operationQuery==\"remove\":\n",
    "    removalReq = input(\"Which country you want to remove?\")\n",
    "    if removalReq in popCountry:\n",
    "        del popCountry[removalReq]\n",
    "    else:\n",
    "        print(\"Country doesn't exist!\")\n",
    "\n",
    "elif operationQuery==\"query\":\n",
    "    queryReq = input(\"Which country's population you want to view? \")\n",
    "    if queryReq in popCountry:\n",
    "        print(f\"Population for the country {queryReq} ==> {popCountry[queryReq]}\")\n",
    "    else:\n",
    "        print(\"Not exists!\")\n",
    "\n",
    "\n",
    "\n",
    "\n",
    "\n"
   ]
  },
  {
   "attachments": {},
   "cell_type": "markdown",
   "metadata": {},
   "source": [
    "### Tuples"
   ]
  },
  {
   "cell_type": "code",
   "execution_count": 29,
   "metadata": {},
   "outputs": [
    {
     "data": {
      "text/plain": [
       "{'info': [600, 630, 620], 'ril': [1430, 1490, 1597], 'mtl': [234, 180, 160]}"
      ]
     },
     "execution_count": 29,
     "metadata": {},
     "output_type": "execute_result"
    }
   ],
   "source": [
    "stock_prices = {\"info\":[600,630,620],\"ril\":[1430,1490,1597],\"mtl\":[234,180,160]}\n",
    "stock_prices"
   ]
  },
  {
   "cell_type": "code",
   "execution_count": 34,
   "metadata": {},
   "outputs": [
    {
     "name": "stdout",
     "output_type": "stream",
     "text": [
      "info ==> [600, 630, 620, 625] ==> avg: 618.75\n",
      "ril ==> [1430, 1490, 1597] ==> avg: 1505.67\n",
      "mtl ==> [234, 180, 160] ==> avg: 191.33\n",
      "tata ==> [560] ==> avg: 560.00\n"
     ]
    }
   ],
   "source": [
    "operationQuery2 = input(\"ENTER THE TYPE OF OPERATION YOU WANT TO PERFORM ==>\")\n",
    "\n",
    "if operationQuery2 == \"print\":\n",
    "    for comp,stockval in stock_prices.items():\n",
    "        print(f\"{comp} ==> {stockval} ==> avg: {sum(stockval)/len(stockval):.2f}\") #f-string formatted to 2 decimal places\n",
    "elif operationQuery2 == \"add\":\n",
    "    req1 = input(\"ENTER STOCK TICKER :\")\n",
    "    req2 = input(\"ENTER THE STOCK PRICE :\")\n",
    "\n",
    "    if req1 in stock_prices:\n",
    "        stock_prices[req1].append(int(req2))\n",
    "    else:\n",
    "        stock_prices[req1] = [int(req2)]\n"
   ]
  },
  {
   "cell_type": "code",
   "execution_count": 33,
   "metadata": {},
   "outputs": [
    {
     "data": {
      "text/plain": [
       "{'info': [600, 630, 620, 625],\n",
       " 'ril': [1430, 1490, 1597],\n",
       " 'mtl': [234, 180, 160],\n",
       " 'tata': [560]}"
      ]
     },
     "execution_count": 33,
     "metadata": {},
     "output_type": "execute_result"
    }
   ],
   "source": [
    "stock_prices"
   ]
  },
  {
   "attachments": {},
   "cell_type": "markdown",
   "metadata": {},
   "source": [
    "### Some Function"
   ]
  },
  {
   "cell_type": "code",
   "execution_count": 39,
   "metadata": {},
   "outputs": [
    {
     "name": "stdout",
     "output_type": "stream",
     "text": [
      "Area: 50.26548245743669, Circumference: 25.132741228718345, Diameter: 8.0\n"
     ]
    }
   ],
   "source": [
    "import math\n",
    "\n",
    "def circle_calc(radius):\n",
    "    area = math.pi*(radius**2)\n",
    "    circumference = 2*math.pi*radius\n",
    "    diameter = 2*radius\n",
    "    return area, circumference, diameter\n",
    "\n",
    "r = float(input(\"ENTER RADIUS OF CIRCLE ==> \"))\n",
    "ar,crcm, dia = circle_calc(r)\n",
    "\n",
    "print(f\"Area: {ar}, Circumference: {crcm}, Diameter: {dia}\")\n"
   ]
  }
 ],
 "metadata": {
  "kernelspec": {
   "display_name": "base",
   "language": "python",
   "name": "python3"
  },
  "language_info": {
   "codemirror_mode": {
    "name": "ipython",
    "version": 3
   },
   "file_extension": ".py",
   "mimetype": "text/x-python",
   "name": "python",
   "nbconvert_exporter": "python",
   "pygments_lexer": "ipython3",
   "version": "3.9.7"
  },
  "orig_nbformat": 4
 },
 "nbformat": 4,
 "nbformat_minor": 2
}
