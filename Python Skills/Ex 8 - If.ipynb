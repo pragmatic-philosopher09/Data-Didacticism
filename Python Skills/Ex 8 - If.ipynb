{
 "cells": [
  {
   "cell_type": "code",
   "execution_count": 1,
   "metadata": {},
   "outputs": [],
   "source": [
    "india = [\"mumbai\", \"banglore\", \"chennai\", \"delhi\"]\n",
    "pakistan = [\"lahore\",\"karachi\",\"islamabad\"]\n",
    "bangladesh = [\"dhaka\", \"khulna\", \"rangpur\"]"
   ]
  },
  {
   "cell_type": "code",
   "execution_count": 5,
   "metadata": {},
   "outputs": [
    {
     "name": "stdout",
     "output_type": "stream",
     "text": [
      "Pakistan\n"
     ]
    }
   ],
   "source": [
    "cityInput = input()\n",
    "\n",
    "if(cityInput in india):\n",
    "    print(\"India\")\n",
    "elif (cityInput in pakistan):\n",
    "    print(\"Pakistan\")\n",
    "elif(cityInput in bangladesh):\n",
    "    print(\"Bangladesh\")\n",
    "\n"
   ]
  },
  {
   "cell_type": "code",
   "execution_count": 6,
   "metadata": {},
   "outputs": [
    {
     "name": "stdout",
     "output_type": "stream",
     "text": [
      "They don't belong to same country\n"
     ]
    }
   ],
   "source": [
    "city1 = input()\n",
    "city2 = input()\n",
    "\n",
    "if(city1 in india and city2 in india):\n",
    "    print(\"Both cities are in India\")\n",
    "elif(city1 in pakistan and city2 in pakistan):\n",
    "    print(\"Both cities are in Pakistan\")\n",
    "elif(city1 in bangladesh and city2 in bangladesh):\n",
    "    print(\"Both cities are in Bangladesh\")\n",
    "\n",
    "else:\n",
    "    print(\"They don't belong to same country\")"
   ]
  },
  {
   "cell_type": "code",
   "execution_count": 10,
   "metadata": {},
   "outputs": [
    {
     "name": "stdout",
     "output_type": "stream",
     "text": [
      "Sugar is normal\n"
     ]
    }
   ],
   "source": [
    "fasting_sugar_level = int(input())\n",
    "\n",
    "if(fasting_sugar_level<80):\n",
    "    print(\"Sugar is low\")\n",
    "elif(fasting_sugar_level>100):\n",
    "    print(\"Sugar is high\")\n",
    "else:\n",
    "    print(\"Sugar is normal\")"
   ]
  }
 ],
 "metadata": {
  "kernelspec": {
   "display_name": "base",
   "language": "python",
   "name": "python3"
  },
  "language_info": {
   "codemirror_mode": {
    "name": "ipython",
    "version": 3
   },
   "file_extension": ".py",
   "mimetype": "text/x-python",
   "name": "python",
   "nbconvert_exporter": "python",
   "pygments_lexer": "ipython3",
   "version": "3.9.7"
  },
  "orig_nbformat": 4,
  "vscode": {
   "interpreter": {
    "hash": "88279d2366fe020547cde40dd65aa0e3aa662a6ec1f3ca12d88834876c85e1a6"
   }
  }
 },
 "nbformat": 4,
 "nbformat_minor": 2
}
