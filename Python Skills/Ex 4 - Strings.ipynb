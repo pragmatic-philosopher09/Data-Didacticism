{
 "cells": [
  {
   "cell_type": "code",
   "execution_count": 4,
   "metadata": {},
   "outputs": [
    {
     "name": "stdout",
     "output_type": "stream",
     "text": [
      "Address using method #1 ==>\n",
      " Dalal Street\n",
      "Mumbai\n",
      "India\n",
      "Address using method # 2 ==>\n",
      " Dalal Street\n",
      "Mumbai\n",
      "India\n"
     ]
    }
   ],
   "source": [
    "street = \"Dalal Street\"\n",
    "city = \"Mumbai\"\n",
    "country = \"India\"\n",
    "\n",
    "address1 = street + \"\\n\"+city+\"\\n\"+country # Method #1\n",
    "address2 = f'{street}\\n{city}\\n{country}' #Method #2\n",
    "\n",
    "print(\"Address using method #1 ==>\\n\",address1)\n",
    "print(\"Address using method # 2 ==>\\n\",address2)"
   ]
  },
  {
   "cell_type": "code",
   "execution_count": 9,
   "metadata": {},
   "outputs": [
    {
     "name": "stdout",
     "output_type": "stream",
     "text": [
      "revolves\n",
      "sun\n"
     ]
    }
   ],
   "source": [
    "sentence = \"Earth revolves around the sun\"\n",
    "\n",
    "print(sentence[6:14]) #Slice operator used\n",
    "print(sentence[-3:])  #Negative index used"
   ]
  },
  {
   "cell_type": "code",
   "execution_count": 11,
   "metadata": {},
   "outputs": [
    {
     "data": {
      "text/plain": [
       "'I eat 4 veggies and 2 fruits daily'"
      ]
     },
     "execution_count": 11,
     "metadata": {},
     "output_type": "execute_result"
    }
   ],
   "source": [
    "num_fruits = 2\n",
    "num_veggies = 4\n",
    "\n",
    "f'I eat {num_veggies} veggies and {num_fruits} fruits daily'"
   ]
  },
  {
   "cell_type": "code",
   "execution_count": 12,
   "metadata": {},
   "outputs": [
    {
     "name": "stdout",
     "output_type": "stream",
     "text": [
      "Altered String ==> maine 10 samosa khaye\n"
     ]
    }
   ],
   "source": [
    "s='maine 200 banana khaye'\n",
    "\n",
    "s = s.replace(\"200\",\"10\").replace(\"banana\",\"samosa\")\n",
    "\n",
    "print(\"Altered String ==>\",s)"
   ]
  }
 ],
 "metadata": {
  "kernelspec": {
   "display_name": "base",
   "language": "python",
   "name": "python3"
  },
  "language_info": {
   "codemirror_mode": {
    "name": "ipython",
    "version": 3
   },
   "file_extension": ".py",
   "mimetype": "text/x-python",
   "name": "python",
   "nbconvert_exporter": "python",
   "pygments_lexer": "ipython3",
   "version": "3.9.7"
  },
  "orig_nbformat": 4
 },
 "nbformat": 4,
 "nbformat_minor": 2
}
