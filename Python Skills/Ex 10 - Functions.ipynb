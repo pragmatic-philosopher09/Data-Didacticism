{
 "cells": [
  {
   "cell_type": "code",
   "execution_count": 1,
   "metadata": {},
   "outputs": [
    {
     "data": {
      "text/plain": [
       "3.5999999999999996"
      ]
     },
     "execution_count": 1,
     "metadata": {},
     "output_type": "execute_result"
    }
   ],
   "source": [
    "def calculate_area(base, height):\n",
    "    area = 1/2*base*height\n",
    "    return area\n",
    "\n",
    "calculate_area(3,2.4)"
   ]
  },
  {
   "cell_type": "code",
   "execution_count": 2,
   "metadata": {},
   "outputs": [
    {
     "name": "stdout",
     "output_type": "stream",
     "text": [
      "1.0\n",
      "20\n"
     ]
    }
   ],
   "source": [
    "def calc_area(dim1,dim2,shape=\"triangle\"):\n",
    "    \n",
    "    if(shape == \"triangle\"):\n",
    "        area = 1/2*dim1*dim2\n",
    "    \n",
    "    elif(shape == \"rectangle\"):\n",
    "        area = dim1*dim2\n",
    "    else:\n",
    "        area = None\n",
    "    \n",
    "    return area\n",
    "print(calc_area(1,2,\"triangle\"))\n",
    "print(calc_area(4,5,\"rectangle\"))\n"
   ]
  },
  {
   "cell_type": "code",
   "execution_count": 9,
   "metadata": {},
   "outputs": [
    {
     "name": "stdout",
     "output_type": "stream",
     "text": [
      "BEHOLD THE FOLLOWING PATTERN ==> \n",
      "\n",
      "\n",
      "*\n",
      "\n",
      "**\n",
      "\n",
      "***\n",
      "\n"
     ]
    }
   ],
   "source": [
    "def print_pattern(numOfRows):\n",
    "\n",
    "    for i in range(numOfRows+1):\n",
    "        for j in range(i):\n",
    "            print(\"*\",end=\"\")\n",
    "        print(\"\\n\")\n",
    "\n",
    "rows = int(input(\"ENTER NUM OF ROWS: \"))\n",
    "print(\"BEHOLD THE FOLLOWING PATTERN ==> \")\n",
    "print_pattern(rows)"
   ]
  }
 ],
 "metadata": {
  "kernelspec": {
   "display_name": "base",
   "language": "python",
   "name": "python3"
  },
  "language_info": {
   "codemirror_mode": {
    "name": "ipython",
    "version": 3
   },
   "file_extension": ".py",
   "mimetype": "text/x-python",
   "name": "python",
   "nbconvert_exporter": "python",
   "pygments_lexer": "ipython3",
   "version": "3.9.7"
  },
  "orig_nbformat": 4
 },
 "nbformat": 4,
 "nbformat_minor": 2
}
