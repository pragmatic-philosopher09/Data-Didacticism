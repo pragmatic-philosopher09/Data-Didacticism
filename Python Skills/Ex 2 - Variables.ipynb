{
 "cells": [
  {
   "cell_type": "code",
   "execution_count": 1,
   "id": "f86f9199",
   "metadata": {},
   "outputs": [
    {
     "ename": "SyntaxError",
     "evalue": "invalid syntax (Temp/ipykernel_17040/2709188746.py, line 1)",
     "output_type": "error",
     "traceback": [
      "\u001b[1;36m  File \u001b[1;32m\"C:\\Users\\hp\\AppData\\Local\\Temp/ipykernel_17040/2709188746.py\"\u001b[1;36m, line \u001b[1;32m1\u001b[0m\n\u001b[1;33m    break = 5\u001b[0m\n\u001b[1;37m          ^\u001b[0m\n\u001b[1;31mSyntaxError\u001b[0m\u001b[1;31m:\u001b[0m invalid syntax\n"
     ]
    }
   ],
   "source": [
    "break = 5 # Throws error because it is a keyword (reserved word)"
   ]
  },
  {
   "cell_type": "code",
   "execution_count": 3,
   "id": "51d750b2",
   "metadata": {},
   "outputs": [
    {
     "name": "stdout",
     "output_type": "stream",
     "text": [
      "Present Age: 22\n"
     ]
    }
   ],
   "source": [
    "birth_year = 2001\n",
    "current_year = 2023\n",
    "\n",
    "print(\"Present Age: \" + str(current_year-birth_year))"
   ]
  },
  {
   "cell_type": "code",
   "execution_count": 4,
   "id": "c85e6673",
   "metadata": {},
   "outputs": [
    {
     "name": "stdout",
     "output_type": "stream",
     "text": [
      "Thy Full Name ==> Priyanshu  Mohanty\n"
     ]
    }
   ],
   "source": [
    "first_name = \"Priyanshu\"\n",
    "middle_name = \"\"\n",
    "last_name = \"Mohanty\"\n",
    "\n",
    "print(\"Thy Full Name ==> \"+first_name+\" \"+middle_name+\" \"+last_name)"
   ]
  },
  {
   "cell_type": "code",
   "execution_count": 6,
   "id": "cccff08f",
   "metadata": {},
   "outputs": [
    {
     "data": {
      "text/plain": [
       "' Invalid ones:\\n\\n1. record-one \\n2. 1record\\n3. record^one\\n4. continue\\n\\n'"
      ]
     },
     "execution_count": 6,
     "metadata": {},
     "output_type": "execute_result"
    }
   ],
   "source": [
    "\"\"\" Invalid ones:\n",
    "\n",
    "1. record-one \n",
    "2. 1record\n",
    "3. record^one\n",
    "4. continue\n",
    "\n",
    "\"\"\""
   ]
  },
  {
   "cell_type": "code",
   "execution_count": null,
   "id": "047a6733",
   "metadata": {},
   "outputs": [],
   "source": []
  }
 ],
 "metadata": {
  "kernelspec": {
   "display_name": "Python 3 (ipykernel)",
   "language": "python",
   "name": "python3"
  },
  "language_info": {
   "codemirror_mode": {
    "name": "ipython",
    "version": 3
   },
   "file_extension": ".py",
   "mimetype": "text/x-python",
   "name": "python",
   "nbconvert_exporter": "python",
   "pygments_lexer": "ipython3",
   "version": "3.9.7"
  }
 },
 "nbformat": 4,
 "nbformat_minor": 5
}
