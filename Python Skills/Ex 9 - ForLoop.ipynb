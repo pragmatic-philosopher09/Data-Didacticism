{
 "cells": [
  {
   "cell_type": "code",
   "execution_count": 2,
   "metadata": {},
   "outputs": [
    {
     "name": "stdout",
     "output_type": "stream",
     "text": [
      "Number of Tails : 6\n"
     ]
    }
   ],
   "source": [
    "result = [\"heads\",\"tails\",\"tails\",\"heads\",\"tails\",\"heads\",\"heads\",\"tails\",\"tails\",\"tails\"]\n",
    "\n",
    "tailsCount = 0\n",
    "\n",
    "for coin in result:\n",
    "    if(coin == \"tails\"):\n",
    "        tailsCount+=1 \n",
    "\n",
    "print(\"Number of Tails :\",tailsCount)\n"
   ]
  },
  {
   "cell_type": "code",
   "execution_count": 4,
   "metadata": {},
   "outputs": [
    {
     "name": "stdout",
     "output_type": "stream",
     "text": [
      "165\n"
     ]
    }
   ],
   "source": [
    "sum = 0\n",
    "for i in range(1,11):\n",
    "    if(i%2 !=0):\n",
    "        sum += (i*i)\n",
    "\n",
    "print(sum)"
   ]
  },
  {
   "cell_type": "code",
   "execution_count": 7,
   "metadata": {},
   "outputs": [
    {
     "name": "stdout",
     "output_type": "stream",
     "text": [
      "Expense Not Found\n"
     ]
    }
   ],
   "source": [
    "expense_list = [2340, 2500, 2100, 3100, 2980]\n",
    "expense_month = [\"January\",\"February\",\"March\",\"April\",\"May\"]\n",
    "found = False\n",
    "\n",
    "expense_amount = int(input())\n",
    "\n",
    "for i in range(0,len(expense_list)):\n",
    "    if(expense_list[i] == expense_amount):\n",
    "        found = True\n",
    "        index = i\n",
    "        break\n",
    "if (found == False):\n",
    "    print(\"Expense Not Found\")\n",
    "else:\n",
    "    print(\"Expense month is: \", expense_month[index])\n",
    "\n"
   ]
  },
  {
   "cell_type": "code",
   "execution_count": 19,
   "metadata": {},
   "outputs": [
    {
     "name": "stdout",
     "output_type": "stream",
     "text": [
      "*\n",
      "\n",
      "**\n",
      "\n",
      "***\n",
      "\n",
      "****\n",
      "\n",
      "*****\n",
      "\n"
     ]
    }
   ],
   "source": [
    "for i in range(1,6):\n",
    "    for j in range(i):\n",
    "        print(\"*\",end=\"\")\n",
    "    print(\"\\n\")\n",
    "    "
   ]
  },
  {
   "cell_type": "code",
   "execution_count": 21,
   "metadata": {},
   "outputs": [
    {
     "name": "stdout",
     "output_type": "stream",
     "text": [
      "are you tired?\n",
      "are you tired?\n",
      "are you tired?\n",
      "are you tired?\n",
      "are you tired?\n",
      "Congratulations! You completed the race!\n"
     ]
    }
   ],
   "source": [
    "\n",
    "\n",
    "\n",
    "\n",
    "for i in range(1,6):\n",
    "    \n",
    "    print(\"are you tired?\")\n",
    "\n",
    "    prompt = input()\n",
    "\n",
    "    if(prompt == \"yes\"):\n",
    "        print(\"you didn't finish the race\")\n",
    "        break\n",
    "    else:\n",
    "        continue\n",
    "\n",
    "if(i==5):\n",
    "    print(\"Congratulations! You completed the race!\")"
   ]
  }
 ],
 "metadata": {
  "kernelspec": {
   "display_name": "base",
   "language": "python",
   "name": "python3"
  },
  "language_info": {
   "codemirror_mode": {
    "name": "ipython",
    "version": 3
   },
   "file_extension": ".py",
   "mimetype": "text/x-python",
   "name": "python",
   "nbconvert_exporter": "python",
   "pygments_lexer": "ipython3",
   "version": "3.9.7"
  },
  "orig_nbformat": 4,
  "vscode": {
   "interpreter": {
    "hash": "88279d2366fe020547cde40dd65aa0e3aa662a6ec1f3ca12d88834876c85e1a6"
   }
  }
 },
 "nbformat": 4,
 "nbformat_minor": 2
}
