{
 "cells": [
  {
   "cell_type": "code",
   "execution_count": 2,
   "id": "62aaeef6",
   "metadata": {},
   "outputs": [
    {
     "name": "stdout",
     "output_type": "stream",
     "text": [
      "Area of Football Field : 4489.599999999999 square metres\n"
     ]
    }
   ],
   "source": [
    "area = 92*48.8\n",
    "\n",
    "print(\"Area of Football Field : \" + str(area) + \" square metres\")"
   ]
  },
  {
   "cell_type": "code",
   "execution_count": 3,
   "id": "df359a91",
   "metadata": {},
   "outputs": [
    {
     "name": "stdout",
     "output_type": "stream",
     "text": [
      "Number of Dollars To Be Returned ==> 6.59\n"
     ]
    }
   ],
   "source": [
    "num_packs = 9\n",
    "cost_per_pack = 1.49\n",
    "\n",
    "print (\"Number of Dollars To Be Returned ==> \" + str(20-(num_packs*cost_per_pack)))"
   ]
  },
  {
   "cell_type": "code",
   "execution_count": 1,
   "id": "8f6b9388",
   "metadata": {},
   "outputs": [
    {
     "name": "stdout",
     "output_type": "stream",
     "text": [
      "15125.0\n"
     ]
    }
   ],
   "source": [
    "area_of_floor = 5.5**2\n",
    "cost_of_floor = area_of_floor*500\n",
    "\n",
    "print(cost_of_floor)"
   ]
  },
  {
   "cell_type": "code",
   "execution_count": 3,
   "id": "7d579e08",
   "metadata": {},
   "outputs": [
    {
     "name": "stdout",
     "output_type": "stream",
     "text": [
      "Binary Rep of Number 17 is ==>  10001\n"
     ]
    }
   ],
   "source": [
    "bin(17)\n",
    "\n",
    "#alternative way\n",
    "\n",
    "print('Binary Rep of Number 17 is ==> ', format(17,'b'))"
   ]
  }
 ],
 "metadata": {
  "kernelspec": {
   "display_name": "Python 3 (ipykernel)",
   "language": "python",
   "name": "python3"
  },
  "language_info": {
   "codemirror_mode": {
    "name": "ipython",
    "version": 3
   },
   "file_extension": ".py",
   "mimetype": "text/x-python",
   "name": "python",
   "nbconvert_exporter": "python",
   "pygments_lexer": "ipython3",
   "version": "3.9.7"
  }
 },
 "nbformat": 4,
 "nbformat_minor": 5
}
